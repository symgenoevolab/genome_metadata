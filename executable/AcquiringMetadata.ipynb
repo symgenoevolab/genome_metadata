{
 "cells": [
  {
   "cell_type": "markdown",
   "id": "f3ca4572-df36-474e-9388-190f88ff6bb3",
   "metadata": {
    "tags": []
   },
   "source": [
    "# Acquiring and Cleaning Metadata\n",
    "\n",
    "\n",
    "Last Updated 31st July 2023\n",
    "\n",
    "Note: As of 31st July 2023, slight changes in NCBI's command line tools have impacted the way these scripts run. The file ```metadata-sample.csv``` was acquired with a prior version of NCBI's dataformat and can be directly used to run the ```Boxplot``` and ```PlottingContigN50``` scripts. This following section provides updated details on how to create a similar file. If there are any unexpected difficulties in using NCBI's command line tools, check to make sure that both ```datasets``` and ```dataformat``` is up to date. \n",
    "\n",
    "## 1. Using NCBI's Command Line Tools \n",
    "NCBI has published command line tools to search and pull metadata. Running this code will result in a .tsv file, which can then adapted using the following script to prepare for visualisation in Python. \n",
    "\n",
    "The metadata is pulled using the ```datasets``` tool with the following line: \n",
    "\n",
    "```datasets summary genome taxon spiralia --as-json-lines``` \n",
    "\n",
    "This is then piped into the ```dataformat``` tool which reformats the output to make it easier to use. \n",
    "```dataformat tsv genome``` \n",
    "\n",
    "Without any flags, NCBI provides all fields by default. Certain tags can be chosen under the ```--fields``` flag to request specific columns so that the resulting table is more manageable. \n",
    "\n",
    "The final command including fields is shown below. The result is saved into a .tsv file to be fed into pandas.  \n",
    "\n",
    ">```datasets summary genome taxon spiralia --as-json-lines | dataformat tsv genome --fields accession,organism-name,organism-common-name,organism-tax-id,assminfo-submitter,assminfo-release-date,assminfo-sequencing-tech,assminfo-level,assmstats-contig-l50,assmstats-contig-n50,assmstats-gc-count,assmstats-gc-percent,assmstats-number-of-component-sequences,assmstats-number-of-contigs,assmstats-number-of-scaffolds,assmstats-scaffold-l50,assmstats-scaffold-n50,assmstats-total-number-of-chromosomes,assmstats-total-sequence-len,assmstats-total-ungapped-len,organism-infraspecific-sex,source_database,wgs-project-accession > ncbi_output.tsv```\n"
   ]
  },
  {
   "cell_type": "markdown",
   "id": "26df8ad3-3227-4d24-97bf-85d7b31263d6",
   "metadata": {},
   "source": [
    "## 2. Cleaning up "
   ]
  },
  {
   "cell_type": "markdown",
   "id": "382b46e7-7e5a-4a06-ba59-f88de150e6e4",
   "metadata": {},
   "source": [
    "#### Importing packages: \n",
    "We use ```numpy``` and ```pandas``` for managing our data, ```requests```, ```concurrent.futures```, and ```sys``` to crawl extra metadata from the NCBI website, and ```Bio Entrez``` to convert Organism Tax ID to phyla. "
   ]
  },
  {
   "cell_type": "code",
   "execution_count": 1,
   "id": "a51e0194-6226-4abb-a3d8-40881f0aa95a",
   "metadata": {
    "tags": []
   },
   "outputs": [],
   "source": [
    "import numpy as np\n",
    "import pandas as pd\n",
    "import requests \n",
    "import concurrent.futures \n",
    "# from concurrent.futures import Future \n",
    "import sys\n",
    "from Bio import Entrez "
   ]
  },
  {
   "cell_type": "markdown",
   "id": "959e69d9-3016-414f-ac8f-a4b3b2fd6c0e",
   "metadata": {},
   "source": [
    "#### Helper functions: \n",
    "I wrote a series of additional helper functions throughout the process to streamline the code. These include a class Metadata to crawl additional information from NCBI as well as some functions for eliminating duplicates. Running the file does not execute anything, but allows for the functions to be used further down the line. "
   ]
  },
  {
   "cell_type": "code",
   "execution_count": 2,
   "id": "7c0fc6ea-d96d-44a3-bfab-983a34234936",
   "metadata": {
    "tags": []
   },
   "outputs": [],
   "source": [
    "%run helper_functions.ipynb"
   ]
  },
  {
   "cell_type": "code",
   "execution_count": 3,
   "id": "162bf587-5d6b-4066-936f-b6b25251c7c3",
   "metadata": {
    "tags": []
   },
   "outputs": [],
   "source": [
    "in_data = processNcbiMetadata('ncbi_output.tsv') \n",
    "out_file = 'metadata.csv'  "
   ]
  },
  {
   "cell_type": "markdown",
   "id": "094736a9-4ec0-4926-ad71-7ac4d915e469",
   "metadata": {},
   "source": [
    "#### Metadata Class: \n",
    "Taking the tsv output of NCBI's command line tools, we use the Metadata class to find additional information. In particular, we're interested in looking at the earliest assembly for each dataset. For any accession ending in a number other than 1, we use ```firstPub()``` to pull the date of publication and contig n50 for the earliest assembly available on NCBI (same accession but ending with .1 instead). The metadata also has functions ```threadCreep``` and ```taxCreep``` to pull additional information from NCBI. ```taxCreep``` acts as a slower alternative to the process written below, but has been more reliable in certain cases. "
   ]
  },
  {
   "cell_type": "code",
   "execution_count": 4,
   "id": "0fefceb0-7a92-49be-9d3b-f3db005671e6",
   "metadata": {
    "tags": []
   },
   "outputs": [],
   "source": [
    "crawl_metadata = Metadata(in_data) "
   ]
  },
  {
   "cell_type": "code",
   "execution_count": 5,
   "id": "6038fd58-a5da-4cd7-8cc1-f01e03956ea4",
   "metadata": {},
   "outputs": [],
   "source": [
    "#crawl_metadata.threadCreep()\n",
    "#crawl_metadata.taxCreep()"
   ]
  },
  {
   "cell_type": "code",
   "execution_count": 6,
   "id": "d203a3c4-439c-4985-89bc-31480bbb6bec",
   "metadata": {
    "tags": []
   },
   "outputs": [
    {
     "name": "stdout",
     "output_type": "stream",
     "text": [
      "Complete: 68/68\r"
     ]
    }
   ],
   "source": [
    "# Note that in newer versions of NCBI's command line tools, the submission date\n",
    "#   column has been replaced by more precise date columns. \n",
    "#   In this update, the firstPub function will reference 'Release_Date' by default\n",
    "#   but this can be changed to 'Submission_Date' parameter if using older datasets \n",
    "crawl_metadata.firstPub(date_column = 'Release_Date')"
   ]
  },
  {
   "cell_type": "code",
   "execution_count": 7,
   "id": "0bf1f306-7884-4115-9e0b-1bdb38777e6e",
   "metadata": {
    "tags": []
   },
   "outputs": [],
   "source": [
    "metadata = crawl_metadata.table"
   ]
  },
  {
   "cell_type": "markdown",
   "id": "dda71323-1053-4017-a4d2-864e833c6a6e",
   "metadata": {},
   "source": [
    "#### Finding Phyla: \n",
    "We use Biopython to get the corresponding phylum for each entry based on Tax ID. "
   ]
  },
  {
   "cell_type": "code",
   "execution_count": 8,
   "id": "b59bbf48-6c14-489d-8e5f-8ef2d69ba9ee",
   "metadata": {
    "tags": []
   },
   "outputs": [],
   "source": [
    "Entrez.email = '<insert email here>'"
   ]
  },
  {
   "cell_type": "code",
   "execution_count": 9,
   "id": "2a4dfab2-e8a4-48dc-8390-2d77c86b64d8",
   "metadata": {
    "tags": []
   },
   "outputs": [],
   "source": [
    "taxids = metadata.Organism_Taxonomic_ID\n",
    "handle = Entrez.efetch(db = 'taxonomy', id = taxids, retmode = 'xml') \n",
    "records = Entrez.read(handle) \n"
   ]
  },
  {
   "cell_type": "code",
   "execution_count": 10,
   "id": "21f6f5db-b0bc-45b9-91dd-5f5be46a5080",
   "metadata": {
    "tags": []
   },
   "outputs": [],
   "source": [
    "phyla = [entry['ScientificName'] for record in records \n",
    "         for entry in record['LineageEx'] if 'phylum' in entry.values()]"
   ]
  },
  {
   "cell_type": "code",
   "execution_count": 11,
   "id": "9d49304b-397f-4e13-a0b4-dde99dccf24c",
   "metadata": {
    "tags": []
   },
   "outputs": [],
   "source": [
    "metadata['Phylum'] = phyla "
   ]
  },
  {
   "cell_type": "markdown",
   "id": "0b12a4b3-cb14-49de-8979-e332a2ca0de1",
   "metadata": {},
   "source": [
    "#### Long reads or Short reads? \n",
    "Some inconsistencies in captialisation and detail in the 'Sequencing_Tech' column make it difficult to work with. As such, we add an additional column called 'Sequencing_Type' with three distinct categories: long reads, short reads, and no information provided. "
   ]
  },
  {
   "cell_type": "code",
   "execution_count": 12,
   "id": "e17dbd6a-ecf6-4190-bd02-79fef13372c8",
   "metadata": {
    "tags": []
   },
   "outputs": [],
   "source": [
    "metadata = readType(metadata) "
   ]
  },
  {
   "cell_type": "markdown",
   "id": "63aeee8d-10b2-4bb2-9c41-2d43a10f074d",
   "metadata": {},
   "source": [
    "#### Looking at our Dataframe: "
   ]
  },
  {
   "cell_type": "code",
   "execution_count": 13,
   "id": "76eaa2d0-61d9-4a77-b9b7-28d243637852",
   "metadata": {
    "tags": []
   },
   "outputs": [],
   "source": [
    "# Set Pandas such that all columns on a dataframe can be seen without truncation. \n",
    "pd.set_option('display.max_columns', None) "
   ]
  },
  {
   "cell_type": "code",
   "execution_count": 14,
   "id": "46529a29-340d-4f58-b186-9cc941d4fbe6",
   "metadata": {
    "tags": []
   },
   "outputs": [
    {
     "data": {
      "text/html": [
       "<div>\n",
       "<style scoped>\n",
       "    .dataframe tbody tr th:only-of-type {\n",
       "        vertical-align: middle;\n",
       "    }\n",
       "\n",
       "    .dataframe tbody tr th {\n",
       "        vertical-align: top;\n",
       "    }\n",
       "\n",
       "    .dataframe thead th {\n",
       "        text-align: right;\n",
       "    }\n",
       "</style>\n",
       "<table border=\"1\" class=\"dataframe\">\n",
       "  <thead>\n",
       "    <tr style=\"text-align: right;\">\n",
       "      <th></th>\n",
       "      <th>Organism_Name</th>\n",
       "      <th>Organism_Common_Name</th>\n",
       "      <th>Organism_Taxonomic_ID</th>\n",
       "      <th>Submitter</th>\n",
       "      <th>Release_Date</th>\n",
       "      <th>Sequencing_Tech</th>\n",
       "      <th>Level</th>\n",
       "      <th>Contig_L50</th>\n",
       "      <th>Contig_N50</th>\n",
       "      <th>GC_Count</th>\n",
       "      <th>GC_Percent</th>\n",
       "      <th>Number_of_Component_Sequences</th>\n",
       "      <th>Number_of_Contigs</th>\n",
       "      <th>Number_of_Scaffolds</th>\n",
       "      <th>Scaffold_L50</th>\n",
       "      <th>Scaffold_N50</th>\n",
       "      <th>Total_Number_of_Chromosomes</th>\n",
       "      <th>Total_Sequence_Length</th>\n",
       "      <th>Total_Ungapped_Length</th>\n",
       "      <th>Organism_Infraspecific_Names_Sex</th>\n",
       "      <th>Source_Database</th>\n",
       "      <th>WGS_project_accession</th>\n",
       "      <th>First_Publication_Date</th>\n",
       "      <th>Original_Contig_N50</th>\n",
       "      <th>Phylum</th>\n",
       "      <th>Sequencing_Type</th>\n",
       "    </tr>\n",
       "    <tr>\n",
       "      <th>Accession</th>\n",
       "      <th></th>\n",
       "      <th></th>\n",
       "      <th></th>\n",
       "      <th></th>\n",
       "      <th></th>\n",
       "      <th></th>\n",
       "      <th></th>\n",
       "      <th></th>\n",
       "      <th></th>\n",
       "      <th></th>\n",
       "      <th></th>\n",
       "      <th></th>\n",
       "      <th></th>\n",
       "      <th></th>\n",
       "      <th></th>\n",
       "      <th></th>\n",
       "      <th></th>\n",
       "      <th></th>\n",
       "      <th></th>\n",
       "      <th></th>\n",
       "      <th></th>\n",
       "      <th></th>\n",
       "      <th></th>\n",
       "      <th></th>\n",
       "      <th></th>\n",
       "      <th></th>\n",
       "    </tr>\n",
       "  </thead>\n",
       "  <tbody>\n",
       "    <tr>\n",
       "      <th>GCA_002633005.1</th>\n",
       "      <td>Phoronis australis</td>\n",
       "      <td>NaN</td>\n",
       "      <td>115415</td>\n",
       "      <td>Okinawa Institute of Science and Technology Gr...</td>\n",
       "      <td>2017-10-23</td>\n",
       "      <td>454; Illumina MiSeq; Illumina HiSeq</td>\n",
       "      <td>Scaffold</td>\n",
       "      <td>2133</td>\n",
       "      <td>68151</td>\n",
       "      <td>192012380</td>\n",
       "      <td>39.0</td>\n",
       "      <td>3983</td>\n",
       "      <td>15468</td>\n",
       "      <td>3983.0</td>\n",
       "      <td>226.0</td>\n",
       "      <td>655058.0</td>\n",
       "      <td>NaN</td>\n",
       "      <td>498443662</td>\n",
       "      <td>488114166</td>\n",
       "      <td>NaN</td>\n",
       "      <td>SOURCE_DATABASE_GENBANK</td>\n",
       "      <td>NMRA01</td>\n",
       "      <td>2017-10-23</td>\n",
       "      <td>68151</td>\n",
       "      <td>Phoronida</td>\n",
       "      <td>Short read</td>\n",
       "    </tr>\n",
       "    <tr>\n",
       "      <th>GCA_028565635.1</th>\n",
       "      <td>Phoronis ovalis</td>\n",
       "      <td>NaN</td>\n",
       "      <td>492055</td>\n",
       "      <td>Iridian Genomes</td>\n",
       "      <td>2023-02-09</td>\n",
       "      <td>Illumina</td>\n",
       "      <td>Scaffold</td>\n",
       "      <td>17834</td>\n",
       "      <td>4788</td>\n",
       "      <td>110948516</td>\n",
       "      <td>34.0</td>\n",
       "      <td>113601</td>\n",
       "      <td>123365</td>\n",
       "      <td>113601.0</td>\n",
       "      <td>14961.0</td>\n",
       "      <td>5749.0</td>\n",
       "      <td>NaN</td>\n",
       "      <td>326042390</td>\n",
       "      <td>325077420</td>\n",
       "      <td>NaN</td>\n",
       "      <td>SOURCE_DATABASE_GENBANK</td>\n",
       "      <td>JAOXYB01</td>\n",
       "      <td>2023-02-09</td>\n",
       "      <td>4788</td>\n",
       "      <td>Phoronida</td>\n",
       "      <td>Short read</td>\n",
       "    </tr>\n",
       "    <tr>\n",
       "      <th>GCA_028565715.1</th>\n",
       "      <td>Phoronis pallida</td>\n",
       "      <td>NaN</td>\n",
       "      <td>492056</td>\n",
       "      <td>Iridian Genomes</td>\n",
       "      <td>2023-02-09</td>\n",
       "      <td>Illumina</td>\n",
       "      <td>Scaffold</td>\n",
       "      <td>52451</td>\n",
       "      <td>2318</td>\n",
       "      <td>153668160</td>\n",
       "      <td>36.0</td>\n",
       "      <td>257561</td>\n",
       "      <td>260149</td>\n",
       "      <td>257561.0</td>\n",
       "      <td>51547.0</td>\n",
       "      <td>2362.0</td>\n",
       "      <td>NaN</td>\n",
       "      <td>425364260</td>\n",
       "      <td>425146860</td>\n",
       "      <td>NaN</td>\n",
       "      <td>SOURCE_DATABASE_GENBANK</td>\n",
       "      <td>JAOXYC01</td>\n",
       "      <td>2023-02-09</td>\n",
       "      <td>2318</td>\n",
       "      <td>Phoronida</td>\n",
       "      <td>Short read</td>\n",
       "    </tr>\n",
       "  </tbody>\n",
       "</table>\n",
       "</div>"
      ],
      "text/plain": [
       "                      Organism_Name Organism_Common_Name  \\\n",
       "Accession                                                  \n",
       "GCA_002633005.1  Phoronis australis                  NaN   \n",
       "GCA_028565635.1     Phoronis ovalis                  NaN   \n",
       "GCA_028565715.1    Phoronis pallida                  NaN   \n",
       "\n",
       "                 Organism_Taxonomic_ID  \\\n",
       "Accession                                \n",
       "GCA_002633005.1                 115415   \n",
       "GCA_028565635.1                 492055   \n",
       "GCA_028565715.1                 492056   \n",
       "\n",
       "                                                         Submitter  \\\n",
       "Accession                                                            \n",
       "GCA_002633005.1  Okinawa Institute of Science and Technology Gr...   \n",
       "GCA_028565635.1                                    Iridian Genomes   \n",
       "GCA_028565715.1                                    Iridian Genomes   \n",
       "\n",
       "                Release_Date                      Sequencing_Tech     Level  \\\n",
       "Accession                                                                     \n",
       "GCA_002633005.1   2017-10-23  454; Illumina MiSeq; Illumina HiSeq  Scaffold   \n",
       "GCA_028565635.1   2023-02-09                             Illumina  Scaffold   \n",
       "GCA_028565715.1   2023-02-09                             Illumina  Scaffold   \n",
       "\n",
       "                 Contig_L50  Contig_N50   GC_Count  GC_Percent  \\\n",
       "Accession                                                        \n",
       "GCA_002633005.1        2133       68151  192012380        39.0   \n",
       "GCA_028565635.1       17834        4788  110948516        34.0   \n",
       "GCA_028565715.1       52451        2318  153668160        36.0   \n",
       "\n",
       "                 Number_of_Component_Sequences  Number_of_Contigs  \\\n",
       "Accession                                                           \n",
       "GCA_002633005.1                           3983              15468   \n",
       "GCA_028565635.1                         113601             123365   \n",
       "GCA_028565715.1                         257561             260149   \n",
       "\n",
       "                 Number_of_Scaffolds  Scaffold_L50  Scaffold_N50  \\\n",
       "Accession                                                          \n",
       "GCA_002633005.1               3983.0         226.0      655058.0   \n",
       "GCA_028565635.1             113601.0       14961.0        5749.0   \n",
       "GCA_028565715.1             257561.0       51547.0        2362.0   \n",
       "\n",
       "                 Total_Number_of_Chromosomes  Total_Sequence_Length  \\\n",
       "Accession                                                             \n",
       "GCA_002633005.1                          NaN              498443662   \n",
       "GCA_028565635.1                          NaN              326042390   \n",
       "GCA_028565715.1                          NaN              425364260   \n",
       "\n",
       "                 Total_Ungapped_Length Organism_Infraspecific_Names_Sex  \\\n",
       "Accession                                                                 \n",
       "GCA_002633005.1              488114166                              NaN   \n",
       "GCA_028565635.1              325077420                              NaN   \n",
       "GCA_028565715.1              425146860                              NaN   \n",
       "\n",
       "                         Source_Database WGS_project_accession  \\\n",
       "Accession                                                        \n",
       "GCA_002633005.1  SOURCE_DATABASE_GENBANK                NMRA01   \n",
       "GCA_028565635.1  SOURCE_DATABASE_GENBANK              JAOXYB01   \n",
       "GCA_028565715.1  SOURCE_DATABASE_GENBANK              JAOXYC01   \n",
       "\n",
       "                First_Publication_Date  Original_Contig_N50     Phylum  \\\n",
       "Accession                                                                \n",
       "GCA_002633005.1             2017-10-23                68151  Phoronida   \n",
       "GCA_028565635.1             2023-02-09                 4788  Phoronida   \n",
       "GCA_028565715.1             2023-02-09                 2318  Phoronida   \n",
       "\n",
       "                Sequencing_Type  \n",
       "Accession                        \n",
       "GCA_002633005.1      Short read  \n",
       "GCA_028565635.1      Short read  \n",
       "GCA_028565715.1      Short read  "
      ]
     },
     "execution_count": 14,
     "metadata": {},
     "output_type": "execute_result"
    }
   ],
   "source": [
    "metadata.loc[metadata.Phylum == 'Phoronida'] "
   ]
  },
  {
   "cell_type": "code",
   "execution_count": 15,
   "id": "37a4d58b-0526-47a5-9977-725ac93bdb4a",
   "metadata": {},
   "outputs": [
    {
     "data": {
      "text/html": [
       "<div>\n",
       "<style scoped>\n",
       "    .dataframe tbody tr th:only-of-type {\n",
       "        vertical-align: middle;\n",
       "    }\n",
       "\n",
       "    .dataframe tbody tr th {\n",
       "        vertical-align: top;\n",
       "    }\n",
       "\n",
       "    .dataframe thead th {\n",
       "        text-align: right;\n",
       "    }\n",
       "</style>\n",
       "<table border=\"1\" class=\"dataframe\">\n",
       "  <thead>\n",
       "    <tr style=\"text-align: right;\">\n",
       "      <th></th>\n",
       "      <th>Organism_Name</th>\n",
       "      <th>Organism_Common_Name</th>\n",
       "      <th>Organism_Taxonomic_ID</th>\n",
       "      <th>Submitter</th>\n",
       "      <th>Release_Date</th>\n",
       "      <th>Sequencing_Tech</th>\n",
       "      <th>Level</th>\n",
       "      <th>Contig_L50</th>\n",
       "      <th>Contig_N50</th>\n",
       "      <th>GC_Count</th>\n",
       "      <th>GC_Percent</th>\n",
       "      <th>Number_of_Component_Sequences</th>\n",
       "      <th>Number_of_Contigs</th>\n",
       "      <th>Number_of_Scaffolds</th>\n",
       "      <th>Scaffold_L50</th>\n",
       "      <th>Scaffold_N50</th>\n",
       "      <th>Total_Number_of_Chromosomes</th>\n",
       "      <th>Total_Sequence_Length</th>\n",
       "      <th>Total_Ungapped_Length</th>\n",
       "      <th>Organism_Infraspecific_Names_Sex</th>\n",
       "      <th>Source_Database</th>\n",
       "      <th>WGS_project_accession</th>\n",
       "      <th>First_Publication_Date</th>\n",
       "      <th>Original_Contig_N50</th>\n",
       "      <th>Phylum</th>\n",
       "      <th>Sequencing_Type</th>\n",
       "    </tr>\n",
       "    <tr>\n",
       "      <th>Accession</th>\n",
       "      <th></th>\n",
       "      <th></th>\n",
       "      <th></th>\n",
       "      <th></th>\n",
       "      <th></th>\n",
       "      <th></th>\n",
       "      <th></th>\n",
       "      <th></th>\n",
       "      <th></th>\n",
       "      <th></th>\n",
       "      <th></th>\n",
       "      <th></th>\n",
       "      <th></th>\n",
       "      <th></th>\n",
       "      <th></th>\n",
       "      <th></th>\n",
       "      <th></th>\n",
       "      <th></th>\n",
       "      <th></th>\n",
       "      <th></th>\n",
       "      <th></th>\n",
       "      <th></th>\n",
       "      <th></th>\n",
       "      <th></th>\n",
       "      <th></th>\n",
       "      <th></th>\n",
       "    </tr>\n",
       "  </thead>\n",
       "  <tbody>\n",
       "    <tr>\n",
       "      <th>GCF_001039355.2</th>\n",
       "      <td>Lingula anatina</td>\n",
       "      <td>NaN</td>\n",
       "      <td>7574</td>\n",
       "      <td>Okinawa Institute of Science and Technology Gr...</td>\n",
       "      <td>2018-01-26</td>\n",
       "      <td>454; Illumina MiSeq; Illumina HiSeq; PacBio</td>\n",
       "      <td>Scaffold</td>\n",
       "      <td>1942</td>\n",
       "      <td>56068</td>\n",
       "      <td>141655982</td>\n",
       "      <td>36.0</td>\n",
       "      <td>2677</td>\n",
       "      <td>13877</td>\n",
       "      <td>2677.0</td>\n",
       "      <td>271.0</td>\n",
       "      <td>460090.0</td>\n",
       "      <td>NaN</td>\n",
       "      <td>406282338</td>\n",
       "      <td>388995278</td>\n",
       "      <td>male</td>\n",
       "      <td>SOURCE_DATABASE_REFSEQ</td>\n",
       "      <td>LFEI02</td>\n",
       "      <td>2018-01-26</td>\n",
       "      <td>56068</td>\n",
       "      <td>Brachiopoda</td>\n",
       "      <td>Long read</td>\n",
       "    </tr>\n",
       "    <tr>\n",
       "      <th>GCA_001039355.2</th>\n",
       "      <td>Lingula anatina</td>\n",
       "      <td>NaN</td>\n",
       "      <td>7574</td>\n",
       "      <td>Okinawa Institute of Science and Technology Gr...</td>\n",
       "      <td>2018-01-26</td>\n",
       "      <td>454; Illumina MiSeq; Illumina HiSeq; PacBio</td>\n",
       "      <td>Scaffold</td>\n",
       "      <td>1942</td>\n",
       "      <td>56068</td>\n",
       "      <td>141655982</td>\n",
       "      <td>36.0</td>\n",
       "      <td>2677</td>\n",
       "      <td>13877</td>\n",
       "      <td>2677.0</td>\n",
       "      <td>271.0</td>\n",
       "      <td>460090.0</td>\n",
       "      <td>NaN</td>\n",
       "      <td>406282338</td>\n",
       "      <td>388995278</td>\n",
       "      <td>male</td>\n",
       "      <td>SOURCE_DATABASE_GENBANK</td>\n",
       "      <td>LFEI02</td>\n",
       "      <td>2018-01-26</td>\n",
       "      <td>56068</td>\n",
       "      <td>Brachiopoda</td>\n",
       "      <td>Long read</td>\n",
       "    </tr>\n",
       "  </tbody>\n",
       "</table>\n",
       "</div>"
      ],
      "text/plain": [
       "                   Organism_Name Organism_Common_Name  Organism_Taxonomic_ID  \\\n",
       "Accession                                                                      \n",
       "GCF_001039355.2  Lingula anatina                  NaN                   7574   \n",
       "GCA_001039355.2  Lingula anatina                  NaN                   7574   \n",
       "\n",
       "                                                         Submitter  \\\n",
       "Accession                                                            \n",
       "GCF_001039355.2  Okinawa Institute of Science and Technology Gr...   \n",
       "GCA_001039355.2  Okinawa Institute of Science and Technology Gr...   \n",
       "\n",
       "                Release_Date                              Sequencing_Tech  \\\n",
       "Accession                                                                   \n",
       "GCF_001039355.2   2018-01-26  454; Illumina MiSeq; Illumina HiSeq; PacBio   \n",
       "GCA_001039355.2   2018-01-26  454; Illumina MiSeq; Illumina HiSeq; PacBio   \n",
       "\n",
       "                    Level  Contig_L50  Contig_N50   GC_Count  GC_Percent  \\\n",
       "Accession                                                                  \n",
       "GCF_001039355.2  Scaffold        1942       56068  141655982        36.0   \n",
       "GCA_001039355.2  Scaffold        1942       56068  141655982        36.0   \n",
       "\n",
       "                 Number_of_Component_Sequences  Number_of_Contigs  \\\n",
       "Accession                                                           \n",
       "GCF_001039355.2                           2677              13877   \n",
       "GCA_001039355.2                           2677              13877   \n",
       "\n",
       "                 Number_of_Scaffolds  Scaffold_L50  Scaffold_N50  \\\n",
       "Accession                                                          \n",
       "GCF_001039355.2               2677.0         271.0      460090.0   \n",
       "GCA_001039355.2               2677.0         271.0      460090.0   \n",
       "\n",
       "                 Total_Number_of_Chromosomes  Total_Sequence_Length  \\\n",
       "Accession                                                             \n",
       "GCF_001039355.2                          NaN              406282338   \n",
       "GCA_001039355.2                          NaN              406282338   \n",
       "\n",
       "                 Total_Ungapped_Length Organism_Infraspecific_Names_Sex  \\\n",
       "Accession                                                                 \n",
       "GCF_001039355.2              388995278                             male   \n",
       "GCA_001039355.2              388995278                             male   \n",
       "\n",
       "                         Source_Database WGS_project_accession  \\\n",
       "Accession                                                        \n",
       "GCF_001039355.2   SOURCE_DATABASE_REFSEQ                LFEI02   \n",
       "GCA_001039355.2  SOURCE_DATABASE_GENBANK                LFEI02   \n",
       "\n",
       "                First_Publication_Date  Original_Contig_N50       Phylum  \\\n",
       "Accession                                                                  \n",
       "GCF_001039355.2             2018-01-26                56068  Brachiopoda   \n",
       "GCA_001039355.2             2018-01-26                56068  Brachiopoda   \n",
       "\n",
       "                Sequencing_Type  \n",
       "Accession                        \n",
       "GCF_001039355.2       Long read  \n",
       "GCA_001039355.2       Long read  "
      ]
     },
     "execution_count": 15,
     "metadata": {},
     "output_type": "execute_result"
    }
   ],
   "source": [
    "metadata.loc[metadata.Organism_Name == 'Lingula anatina'] "
   ]
  },
  {
   "cell_type": "markdown",
   "id": "8b96b022-7e70-4066-bee9-22a2be1ed2ad",
   "metadata": {},
   "source": [
    "#### Manually Fixing Enries: \n",
    "Some of the earlier genome assemblies may be missing information on NCBI. We try to fix these manually to paint the most accurate picture possible. "
   ]
  },
  {
   "cell_type": "code",
   "execution_count": 16,
   "id": "b6ec3b2a-e86d-466f-a8a6-f0caa385d0ec",
   "metadata": {
    "tags": []
   },
   "outputs": [],
   "source": [
    "metadata.loc[metadata.Organism_Name==\"Schistosoma mansoni\", \"First_Publication_Date\"] = \"2009-07-16\"\n",
    "metadata.loc[metadata.Organism_Name==\"Schistosoma mansoni\", \"Original_Contig_N50\"] = \"77000\" "
   ]
  },
  {
   "cell_type": "markdown",
   "id": "de5eb449-8b70-4d11-8c9e-6c6bf1e16ffc",
   "metadata": {},
   "source": [
    "#### Saving our Dataframe: \n",
    "We save the dataframe to a csv to use in the following visualisation stages. "
   ]
  },
  {
   "cell_type": "code",
   "execution_count": 17,
   "id": "60e9a2ea-1dfa-4e61-b052-4c4c71b7d891",
   "metadata": {
    "tags": []
   },
   "outputs": [],
   "source": [
    "metadata.to_csv(out_file)"
   ]
  },
  {
   "cell_type": "code",
   "execution_count": null,
   "id": "363eee37-9d2a-48ec-9421-d871d5557449",
   "metadata": {},
   "outputs": [],
   "source": []
  }
 ],
 "metadata": {
  "kernelspec": {
   "display_name": "Python 3 (ipykernel)",
   "language": "python",
   "name": "python3"
  },
  "language_info": {
   "codemirror_mode": {
    "name": "ipython",
    "version": 3
   },
   "file_extension": ".py",
   "mimetype": "text/x-python",
   "name": "python",
   "nbconvert_exporter": "python",
   "pygments_lexer": "ipython3",
   "version": "3.9.15"
  }
 },
 "nbformat": 4,
 "nbformat_minor": 5
}
